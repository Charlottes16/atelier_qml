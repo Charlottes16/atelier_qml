{
 "cells": [
  {
   "cell_type": "code",
   "execution_count": null,
   "metadata": {},
   "outputs": [],
   "source": [
    "!pip install qiskit\n",
    "!pip install qiskit_aer\n",
    "!pip install qiskit_machine_learning\n",
    "!pip install qiskit_algorithms\n",
    "!pip install matplotlib\n",
    "!pip install pylatexenc\n",
    "!pip install scipy\n",
    "!pip install -U scikit-learn\n",
    "\n",
    "!git clone https://github.com/IsaVia777/atelier_qml.git"
   ]
  },
  {
   "cell_type": "code",
   "execution_count": null,
   "metadata": {},
   "outputs": [],
   "source": [
    "import matplotlib.pyplot as plt\n",
    "import numpy as np\n",
    "import os\n",
    "import sys \n",
    "\n",
    "from qiskit import QuantumCircuit\n",
    "from qiskit_aer import Aer\n",
    "from qiskit_machine_learning.optimizers import COBYLA, SPSA\n",
    "from qiskit.circuit import Parameter\n",
    "from qiskit.circuit.library import ZZFeatureMap, TwoLocal, ZFeatureMap\n",
    "from qiskit_machine_learning.algorithms.classifiers import NeuralNetworkClassifier\n",
    "from qiskit_machine_learning.neural_networks import SamplerQNN\n",
    "from qiskit_machine_learning.circuit.library import QNNCircuit\n",
    "\n",
    "SEED = 8398"
   ]
  },
  {
   "cell_type": "code",
   "execution_count": null,
   "metadata": {},
   "outputs": [],
   "source": [
    "import sys\n",
    "sys.path.insert(0, '/content/atelier_qml')\n",
    "\n",
    "from utils import *"
   ]
  },
  {
   "cell_type": "markdown",
   "metadata": {},
   "source": [
    "# Lab 4: Entraînement d'un classificateur quantique\n",
    "**Objectifs**\n",
    "* Bâtir un circuit paramétré\n",
    "* Classification du jeu de données Iris"
   ]
  },
  {
   "cell_type": "code",
   "execution_count": null,
   "metadata": {},
   "outputs": [],
   "source": [
    "x_train,y_train,x_test,y_test = get_iris(SEED)\n",
    "nb_features = 4\n",
    "nb_classes = 2"
   ]
  },
  {
   "cell_type": "markdown",
   "metadata": {},
   "source": [
    "# Assemblage d'un classificateur quantique\n",
    "\n",
    "## Étape 1:  Circuit quantique paramétré\n",
    "\n",
    "Le circuit quantique paramétré est composé de deux éléments: \n",
    "\n",
    "* Un circuit d'encodage des données \n",
    "* Un circuit pour apprendre la base de mesure "
   ]
  },
  {
   "cell_type": "code",
   "execution_count": null,
   "metadata": {},
   "outputs": [],
   "source": [
    "# Circuit d'encodage des données\n",
    "x_params = [Parameter(f'x{str(i)}') for i in range(nb_features)]    \n",
    "emb_circuit = angle_embedding(x_params, nb_features)\n",
    "\n",
    "# Circuit pour apprendre la base de mesure\n",
    "ansatz = TwoLocal(nb_features, ['rz', 'rx'], 'cx', 'linear', reps=2, parameter_prefix='w')\n",
    "\n",
    "qc = emb_circuit.compose(ansatz)\n",
    "qc.draw('mpl')"
   ]
  },
  {
   "cell_type": "code",
   "execution_count": null,
   "metadata": {},
   "outputs": [],
   "source": [
    "qc.decompose().draw('mpl')"
   ]
  },
  {
   "cell_type": "markdown",
   "metadata": {},
   "source": [
    "## Circuit QNN"
   ]
  },
  {
   "cell_type": "code",
   "execution_count": null,
   "metadata": {},
   "outputs": [],
   "source": [
    "# Initialisation aléatoire des paramètres\n",
    "np.random.seed(SEED)\n",
    "initial_weights = np.random.rand(ansatz.num_parameters)"
   ]
  },
  {
   "cell_type": "code",
   "execution_count": null,
   "metadata": {},
   "outputs": [],
   "source": [
    "# Fonction d'interprétation de la mesure: la parité compte le nombre\n",
    "# de \"1\" dans la chaîne de bits, x,\n",
    "# et retourne 0 si ce nombre est pair, 1 si impair\n",
    "def parity(x):\n",
    "    return '{:b}'.format(x).count('1') % 2"
   ]
  },
  {
   "cell_type": "code",
   "execution_count": null,
   "metadata": {
    "tags": []
   },
   "outputs": [],
   "source": [
    "# Initialisation de l'optimiseur\n",
    "num_iter = 20\n",
    "optimizer = COBYLA(maxiter=num_iter)\n",
    "\n",
    "sampler_qnn = SamplerQNN(circuit=qc,  \n",
    "                         input_params=emb_circuit.parameters,  ## Mettre la liste des paramètres ici!\n",
    "                         weight_params=ansatz.parameters, \n",
    "                         interpret=parity, \n",
    "                         output_shape=nb_classes)"
   ]
  },
  {
   "cell_type": "code",
   "execution_count": null,
   "metadata": {},
   "outputs": [],
   "source": [
    "# Le vecteur des probabilités d'appartenir à la classe 0 ou 1 pour un point donné\n",
    "# et une valeur donnée des paramètres s'obtient avec la méthode `CircuitQNN.forward()`\n",
    "probs = sampler_qnn.forward(x_train[0], initial_weights)\n",
    "print(f\">\\n> Probabilité d'appartenir à la classe 0: {probs[0][0]*100:.1f}%\\n> Probabilité d'appartenir à la classe 1: {probs[0][1]*100:.1f}%\\n>\")"
   ]
  },
  {
   "cell_type": "markdown",
   "metadata": {},
   "source": [
    "## Entraînement du classificateur avec le `NeuralNetworkClassifier`"
   ]
  },
  {
   "cell_type": "code",
   "execution_count": null,
   "metadata": {},
   "outputs": [],
   "source": [
    "# Instanciation de la classe utilisée pour entraîner le classificateur quantique\n",
    "circuit_classifier = NeuralNetworkClassifier(neural_network=sampler_qnn,\n",
    "                                             optimizer=optimizer,\n",
    "                                             initial_point=initial_weights)\n",
    "# Entraînement du model\n",
    "circuit_classifier.fit(x_train, y_train)"
   ]
  },
  {
   "cell_type": "code",
   "execution_count": null,
   "metadata": {},
   "outputs": [],
   "source": [
    "# Calcul de la précision du classificateur sur les ensembles d'entraînement et de test\n",
    "train_acc = circuit_classifier.score(x_train, y_train)\n",
    "test_acc = circuit_classifier.score(x_test, y_test)\n",
    "\n",
    "print(f\">\\n> Précision sur l'ensemble d'entraînement: {train_acc}\\n> Précision sur l'ensemble de test: {test_acc}\\n>\")"
   ]
  },
  {
   "cell_type": "markdown",
   "metadata": {},
   "source": [
    "## Exercice 4\n",
    "\n",
    "Est-ce qu'on peut faire mieux??<br>\n",
    "Essayons avec un circuit d'encodage des données plus riche que l'encodage par angle, par exemple `ZZFeatureMap`."
   ]
  },
  {
   "cell_type": "code",
   "execution_count": null,
   "metadata": {},
   "outputs": [],
   "source": [
    "## Votre code ici\n",
    "\n",
    "feature_map = None\n",
    "##\n",
    "\n",
    "# On utilise le même circuit pour apprendre la base de mesure \n",
    "ansatz = TwoLocal(nb_features, ['rz', 'rx'], 'cx', 'linear', reps=2, parameter_prefix='w')\n",
    "\n",
    "qc = feature_map.compose(ansatz)\n",
    "qc.draw('mpl')"
   ]
  },
  {
   "cell_type": "code",
   "execution_count": null,
   "metadata": {},
   "outputs": [],
   "source": [
    "## Votre code ici\n",
    "\n",
    "circuit_qnn = SamplerQNN(circuit=qc,  \n",
    "                         input_params=None,  ## Mettre la liste des paramètres ici!\n",
    "                         weight_params=ansatz.parameters, \n",
    "                         interpret=parity, \n",
    "                         output_shape=nb_classes,  \n",
    "                         quantum_instance=qinst)"
   ]
  },
  {
   "cell_type": "code",
   "execution_count": null,
   "metadata": {},
   "outputs": [],
   "source": [
    "# Instanciation de la classe utilisée pour entraîner le classificateur quantique\n",
    "circuit_classifier = NeuralNetworkClassifier(neural_network=circuit_qnn,\n",
    "                                             optimizer=optimizer,\n",
    "                                             initial_point=initial_weights)\n",
    "\n",
    "# Entraînement du model\n",
    "circuit_classifier.fit(x_train, y_train)"
   ]
  },
  {
   "cell_type": "code",
   "execution_count": null,
   "metadata": {},
   "outputs": [],
   "source": [
    "# Calcul de la précision du classificateur sur les ensembles d'entraînement et de test\n",
    "train_acc = circuit_classifier.score(x_train, y_train)\n",
    "test_acc = circuit_classifier.score(x_test, y_test)\n",
    "\n",
    "print(f\">\\n> Précision sur l'ensemble d'entraînement: {train_acc}\\n> Précision sur l'ensemble de test: {test_acc}\\n>\")"
   ]
  },
  {
   "cell_type": "markdown",
   "metadata": {},
   "source": [
    "Pour explorer, vous pouvez faire varier les éléments suivants:\n",
    "* circuit d'encodage\n",
    "* optimiseur (nombre d'itération ou encore un autre optimiser, par exemple SPSA)\n",
    "* fonction d'interprétation de la mesure"
   ]
  }
 ],
 "metadata": {
  "kernelspec": {
   "display_name": "Python 3.9.13 ('qiskit')",
   "language": "python",
   "name": "python3"
  },
  "language_info": {
   "codemirror_mode": {
    "name": "ipython",
    "version": 3
   },
   "file_extension": ".py",
   "mimetype": "text/x-python",
   "name": "python",
   "nbconvert_exporter": "python",
   "pygments_lexer": "ipython3",
   "version": "3.9.13"
  },
  "metadata": {
   "interpreter": {
    "hash": "59177e5be93e8d2ad94a420b44a58c2ce1836dd25cb0312289bbea6026e0e98d"
   }
  },
  "vscode": {
   "interpreter": {
    "hash": "81cfc0e50c93f82568610dccb22eae6eb90d80f5b8c4769a839926e4ff39b503"
   }
  },
  "widgets": {
   "application/vnd.jupyter.widget-state+json": {
    "state": {},
    "version_major": 2,
    "version_minor": 0
   }
  }
 },
 "nbformat": 4,
 "nbformat_minor": 4
}
