{
 "cells": [
  {
   "cell_type": "code",
   "execution_count": null,
   "metadata": {},
   "outputs": [],
   "source": [
    "!pip install qiskit\n",
    "!pip install qiskit_aer\n",
    "!pip install qiskit_machine_learning\n",
    "!pip install qiskit_algorithms\n",
    "!pip install matplotlib\n",
    "!pip install pylatexenc\n",
    "!pip install scipy\n",
    "!pip install -U scikit-learn\n",
    "\n",
    "# !git clone https://github.com/IsaVia777/atelier_qml.git"
   ]
  },
  {
   "cell_type": "markdown",
   "metadata": {},
   "source": [
    "# Lab 3: Classification\n",
    "**Objectifs**\n",
    "* Classifier des données avec 1 qubit \n",
    "* Mesurer selon les axes $X$, $Y$, $Z$"
   ]
  },
  {
   "cell_type": "code",
   "execution_count": null,
   "metadata": {},
   "outputs": [],
   "source": [
    "import matplotlib.pyplot as plt\n",
    "import numpy as np\n",
    "\n",
    "from qiskit import QuantumCircuit\n",
    "from qiskit_aer import Aer\n",
    "\n",
    "SEED = 8398"
   ]
  },
  {
   "cell_type": "code",
   "execution_count": null,
   "metadata": {},
   "outputs": [],
   "source": [
    "import sys\n",
    "sys.path.insert(0, '/content/atelier_qml')\n",
    "\n",
    "from utils import *"
   ]
  },
  {
   "cell_type": "code",
   "execution_count": null,
   "metadata": {},
   "outputs": [],
   "source": [
    "# Les simulateurs qui seront utilisés dans ce laboratoire\n",
    "qasm_sim = Aer.get_backend('qasm_simulator')\n",
    "sv_sim = Aer.get_backend('statevector_simulator')"
   ]
  },
  {
   "cell_type": "markdown",
   "metadata": {},
   "source": [
    "### Ensemble de données à 1D linéairement séparable"
   ]
  },
  {
   "cell_type": "code",
   "execution_count": null,
   "metadata": {},
   "outputs": [],
   "source": [
    "x, y, x0, x1 = get_seperable_data()\n",
    "nb_features = 1\n",
    "\n",
    "# Aperçu de l'ensemble de données. Étiquette 0 en bleu, étiquette 1 en rouge\n",
    "plt.yticks([])\n",
    "plt.scatter(x0, [0]*len(x0), color='blue')\n",
    "plt.scatter(x1, [0]*len(x1), color='red')"
   ]
  },
  {
   "cell_type": "markdown",
   "metadata": {},
   "source": [
    "Encodage par angle avec une rotation autour de l'axe des $X$."
   ]
  },
  {
   "cell_type": "code",
   "execution_count": null,
   "metadata": {},
   "outputs": [],
   "source": [
    "def angle_embedding(x_params, nb_features):\n",
    "    \"\"\"\n",
    "    Encodage par angle avec des portes RX.\n",
    "\n",
    "    :param x_params: Liste des paramètres à encoder.\n",
    "    :param nb_features: Le nombre de caractéristiques dans un vecteur de données.\n",
    "\n",
    "    :return: Le circuit quantique qui fait de l'encodage par angle. \n",
    "    \"\"\"\n",
    "    \n",
    "    qc = QuantumCircuit(nb_features)\n",
    "\n",
    "    for i in range(nb_features):\n",
    "        qc.rx(x_params[i], i)\n",
    "\n",
    "    return qc \n"
   ]
  },
  {
   "cell_type": "code",
   "execution_count": null,
   "metadata": {},
   "outputs": [],
   "source": [
    "# Créer une liste de paramètres.\n",
    "# Puisque les données sont 1D, on n'a besoin que d'un seul paramètre\n",
    "x_params = [Parameter(f'x{str(i)}') for i in range(nb_features)]\n",
    "\n",
    "# Circuit d'encodage par angle\n",
    "qc = angle_embedding(x_params, nb_features)\n",
    "\n",
    "qc.draw('mpl')"
   ]
  },
  {
   "cell_type": "code",
   "execution_count": null,
   "metadata": {},
   "outputs": [],
   "source": [
    "emb_circuit = qc.assign_parameters(x[0])\n",
    "\n",
    "print(f'Encodage de la donnée {x[0]}:')\n",
    "emb_circuit.draw('mpl')"
   ]
  },
  {
   "cell_type": "markdown",
   "metadata": {},
   "source": [
    "### Projection dans l'espace des caractéristiques quantiques à l'aide de l'encodage par angle. "
   ]
  },
  {
   "cell_type": "code",
   "execution_count": null,
   "metadata": {},
   "outputs": [],
   "source": [
    "statevectors0 = get_statevector(qc, x0, x_params, sv_sim)\n",
    "statevectors1 = get_statevector(qc, x1, x_params, sv_sim)\n",
    "plot_bloch_visualization([statevectors0, statevectors1], ['b', 'r'])"
   ]
  },
  {
   "cell_type": "markdown",
   "metadata": {},
   "source": [
    "## Implémentation de l'algorithme de classification\n",
    "\n",
    "![lab3.png](lab3.png)"
   ]
  },
  {
   "cell_type": "code",
   "execution_count": null,
   "metadata": {},
   "outputs": [],
   "source": [
    "shots = 1024\n",
    "\n",
    "\n",
    "def get_measurement_outcomes(data, emb_circuit, rot_circuit=None):\n",
    "    \"\"\"\n",
    "    Exécution du circuit d'un classificateur binaire pour tous les vecteurs\n",
    "    d'un ensemble de données.\n",
    "\n",
    "    :param data:        Jeu de données à classifier\n",
    "    :param emb_circuit: Circuit d'encodage des données par angle.\n",
    "    :param rot_circuit: Circuit définissant la base de mesure.\n",
    "                        Par défaut, mesure dans la base computationnelle (Z)\n",
    "\n",
    "    :return: Une liste de résultats de mesure, un par vecteur de données présent\n",
    "             dans l'ensemble.\n",
    "    \"\"\"\n",
    "    # Ajouter le circuit définissant la base de mesure.\n",
    "    if rot_circuit != None:\n",
    "        emb_circuit = emb_circuit.compose(rot_circuit)\n",
    "\n",
    "    circuits = []\n",
    "    # Pour chaque point de l'ensemble de données\n",
    "    for x_i in data:\n",
    "        x_params = emb_circuit.parameters\n",
    "        # Dictionnaire qui associe à chaque paramètre une caractéristique de la donnée\n",
    "        x_params_dict = {p:v for (p,v) in zip(x_params, x_i)}\n",
    "        # Remplacer les paramètres du circuit par leurs valeurs associées\n",
    "        gqc = emb_circuit.assign_parameters(x_params_dict)\n",
    "        # Ajouter la mesure de tous les qubits\n",
    "        gqc.measure_all()\n",
    "        circuits.append(gqc)\n",
    "\n",
    "    # Exécuter les circuits \"N\" fois (déterminé par le nombre de shots)\n",
    "    # result = execute(circuits, qasm_sim, shots=shots).result()\n",
    "    result = qasm_sim.run(circuits, shots=shots).result()\n",
    "    counts = result.get_counts()\n",
    "\n",
    "    return counts"
   ]
  },
  {
   "cell_type": "code",
   "execution_count": null,
   "metadata": {},
   "outputs": [],
   "source": [
    "counts = get_measurement_outcomes(x, qc)\n",
    "counts"
   ]
  },
  {
   "cell_type": "code",
   "execution_count": null,
   "metadata": {},
   "outputs": [],
   "source": [
    "def get_probabilities_from_counts(counts):\n",
    "    \"\"\"\n",
    "    Calcul des probabilités d'appartenir à la classe 0 ou 1 à partir des résultats de\n",
    "    mesure du circuit d'un classificateur binaire.\n",
    "    \"\"\"\n",
    "    num_classes = 2\n",
    "    probs = []\n",
    "\n",
    "    # Pour les résultats de mesure de chaque point de l'ensemble de données \n",
    "    for dict_meas in counts:\n",
    "        # On compte le nombre de fois où on a observer 0 et 1 respectivement\n",
    "        indiv_probs = np.zeros(num_classes)\n",
    "        indiv_probs[0] = dict_meas.get('0', 0)\n",
    "        indiv_probs[1] = dict_meas.get('1', 0)\n",
    "        # On traduit le nombre d'observations de 0 et 1 en probabilités\n",
    "        indiv_probs /= shots\n",
    "        probs.append(indiv_probs)\n",
    "\n",
    "    return np.round(probs, decimals=3)"
   ]
  },
  {
   "cell_type": "code",
   "execution_count": null,
   "metadata": {},
   "outputs": [],
   "source": [
    "probs = get_probabilities_from_counts(counts)\n",
    "probs"
   ]
  },
  {
   "cell_type": "code",
   "execution_count": null,
   "metadata": {},
   "outputs": [],
   "source": [
    "def get_accuracy(probs, targets):\n",
    "    \"\"\"\n",
    "    Calcul la précision obtenue par le classificateur binaire\n",
    "\n",
    "    :param probs:   La probabilité prédite par le classificateur d'appartenir à la classe 0 ou 1,\n",
    "                    pour chaque vecteur de l'ensemble de données.\n",
    "    :param targets: La liste des étiquettes.\n",
    "\n",
    "    :return: La précision du classificateur.\n",
    "    \"\"\"\n",
    "    # La classe prédite est celle avec la plus grande probabilité\n",
    "    predict = np.argmax(probs, axis=1)\n",
    "    targets = np.array(targets).reshape(predict.shape)\n",
    "    # On compte le nombre de fois où la prédiction correspond à l'étiquette et on divise\n",
    "    # par le nombre total de prédictions.\n",
    "    accuracy = np.sum(predict == targets) / len(predict)\n",
    "    \n",
    "    return accuracy"
   ]
  },
  {
   "cell_type": "code",
   "execution_count": null,
   "metadata": {},
   "outputs": [],
   "source": [
    "accuracy = get_accuracy(probs, y)\n",
    "print(f'>\\n> La précision de notre classificateur est de {accuracy*100}%.\\n>')"
   ]
  },
  {
   "cell_type": "code",
   "execution_count": null,
   "metadata": {},
   "outputs": [],
   "source": [
    "predict = np.argmax(probs, axis=1)\n",
    "plot_bloch_visualization([statevectors0, statevectors1], x=x, x0=x0, x1=x1, score=(predict==np.array(y).reshape(predict.shape)))"
   ]
  },
  {
   "cell_type": "markdown",
   "metadata": {},
   "source": [
    "Les points marqués d'un **X** sont ceux qui ont été mal classifiés.<br>\n",
    "Êtes-vous surpris?<br>\n",
    "Comment peut-on faire mieux?"
   ]
  },
  {
   "cell_type": "markdown",
   "metadata": {},
   "source": [
    "## Mesure le long de l'axe Y\n",
    "\n",
    "Pour mesurer le long de l'axe $Y$, on doit appliquer la porte $S^\\dagger$, suivie de la porte $H$.<br>\n",
    "La porte $S^\\dagger$ applique une rotation de $\\pi/2$ dans le sens horaire autour de l'axe $Z$."
   ]
  },
  {
   "cell_type": "code",
   "execution_count": null,
   "metadata": {},
   "outputs": [],
   "source": [
    "qc_ybasis = QuantumCircuit(1)\n",
    "qc_ybasis.sdg(0)\n",
    "qc_ybasis.h(0)\n",
    "\n",
    "qc_ybasis.draw('mpl')"
   ]
  },
  {
   "cell_type": "code",
   "execution_count": null,
   "metadata": {},
   "outputs": [],
   "source": [
    "counts = get_measurement_outcomes(x, qc, qc_ybasis)\n",
    "probs = get_probabilities_from_counts(counts)\n",
    "accuracy = get_accuracy(probs, y)\n",
    "print(f'>\\n> La précision de notre classificateur est de {accuracy*100}%.\\n>')"
   ]
  },
  {
   "cell_type": "code",
   "execution_count": null,
   "metadata": {},
   "outputs": [],
   "source": [
    "predict = np.argmax(probs, axis=1)\n",
    "plot_bloch_visualization([statevectors0, statevectors1], x=x, x0=x0, x1=x1, score=(predict==np.array(y).reshape(predict.shape)))"
   ]
  },
  {
   "cell_type": "markdown",
   "metadata": {},
   "source": [
    "## Exercice 3 \n",
    " * Créez la fonction d'encodage par angle pour que les rotations soient effectuées autour de l'axe $Y$.\n",
    " * Créez le circuit quantique `qc_xbasis` qui effectue une mesure dans la base des $X$ en ajoutant simplement une porte Hadamard.<br>Validez que vous obtenez 100% de précision avec ce circuit."
   ]
  },
  {
   "cell_type": "code",
   "execution_count": null,
   "metadata": {},
   "outputs": [],
   "source": [
    "def angle_embedding_ry(x_params, nb_features):\n",
    "    \"\"\"\n",
    "    Encodage par angle avec des portes RY.\n",
    "\n",
    "    :param x_params: Liste des paramètres à encoder.\n",
    "    :param nb_features: Le nombre de caractéristiques dans un vecteur de données.\n",
    "\n",
    "    :return: Le circuit quantique qui fait de l'encodage par angle. \n",
    "    \"\"\"\n",
    "\n",
    "    ## Votre code ici\n",
    "    qc = None\n",
    "\n",
    "    return qc "
   ]
  },
  {
   "cell_type": "code",
   "execution_count": null,
   "metadata": {},
   "outputs": [],
   "source": [
    "qc = angle_embedding_ry(x_params, 1)\n",
    "statevectors0 = get_statevector(qc, x0, x_params, sv_sim)\n",
    "statevectors1 = get_statevector(qc, x1, x_params, sv_sim)\n",
    "plot_bloch_visualization([statevectors0, statevectors1], ['b', 'r'])"
   ]
  },
  {
   "cell_type": "code",
   "execution_count": null,
   "metadata": {},
   "outputs": [],
   "source": [
    "## Votre code ici\n",
    "\n",
    "qc_xbasis = None\n",
    "\n",
    "qc_xbasis.draw('mpl')"
   ]
  },
  {
   "cell_type": "code",
   "execution_count": null,
   "metadata": {},
   "outputs": [],
   "source": [
    "## Votre code ici\n",
    "\n",
    "counts = None\n",
    "probs = None\n",
    "accuracy = None\n",
    "print(f'>\\n> La précision de notre classificateur est de {accuracy*100}%.\\n>')"
   ]
  }
 ],
 "metadata": {
  "kernelspec": {
   "display_name": "Python 3.9.13 ('qiskit')",
   "language": "python",
   "name": "python3"
  },
  "language_info": {
   "codemirror_mode": {
    "name": "ipython",
    "version": 3
   },
   "file_extension": ".py",
   "mimetype": "text/x-python",
   "name": "python",
   "nbconvert_exporter": "python",
   "pygments_lexer": "ipython3",
   "version": "3.9.13"
  },
  "vscode": {
   "interpreter": {
    "hash": "81cfc0e50c93f82568610dccb22eae6eb90d80f5b8c4769a839926e4ff39b503"
   }
  },
  "widgets": {
   "application/vnd.jupyter.widget-state+json": {
    "state": {},
    "version_major": 2,
    "version_minor": 0
   }
  }
 },
 "nbformat": 4,
 "nbformat_minor": 4
}
