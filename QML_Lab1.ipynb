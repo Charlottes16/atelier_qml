{
 "cells": [
  {
   "cell_type": "code",
   "execution_count": null,
   "metadata": {},
   "outputs": [],
   "source": [
    "!pip install qiskit\n",
    "!pip install qiskit_aer\n",
    "!pip install qiskit_machine_learning\n",
    "!pip install qiskit_algorithms\n",
    "!pip install matplotlib\n",
    "!pip install pylatexenc\n",
    "!pip install scipy\n",
    "!pip install -U scikit-learn\n",
    "\n",
    "# !git clone https://github.com/IsaVia777/atelier_qml.git"
   ]
  },
  {
   "cell_type": "markdown",
   "metadata": {},
   "source": [
    "# Lab 1: Circuits quantiques avec Qiskit\n",
    "\n",
    "**Objectifs:**\n",
    "* Introduction du jeu de données Iris\n",
    "* Application de portes quantiques avec Qiskit\n",
    "* Exécution d'un circuit quantique\n",
    "* Interprétation du résultat de la mesure d'un circuit quantique"
   ]
  },
  {
   "cell_type": "code",
   "execution_count": null,
   "metadata": {},
   "outputs": [
    {
     "ename": "ImportError",
     "evalue": "cannot import name 'Aer' from 'qiskit' (/Users/isabelleviarouge/miniconda3/envs/qiskit2/lib/python3.12/site-packages/qiskit/__init__.py)",
     "output_type": "error",
     "traceback": [
      "\u001b[0;31m---------------------------------------------------------------------------\u001b[0m",
      "\u001b[0;31mImportError\u001b[0m                               Traceback (most recent call last)",
      "Cell \u001b[0;32mIn[1], line 7\u001b[0m\n\u001b[1;32m      4\u001b[0m \u001b[38;5;28;01mfrom\u001b[39;00m \u001b[38;5;21;01msklearn\u001b[39;00m \u001b[38;5;28;01mimport\u001b[39;00m datasets\n\u001b[1;32m      5\u001b[0m \u001b[38;5;28;01mfrom\u001b[39;00m \u001b[38;5;21;01msklearn\u001b[39;00m\u001b[38;5;21;01m.\u001b[39;00m\u001b[38;5;21;01mmodel_selection\u001b[39;00m \u001b[38;5;28;01mimport\u001b[39;00m train_test_split\n\u001b[0;32m----> 7\u001b[0m \u001b[38;5;28;01mfrom\u001b[39;00m \u001b[38;5;21;01mqiskit\u001b[39;00m \u001b[38;5;28;01mimport\u001b[39;00m QuantumCircuit, Aer, execute, IBMQ\n\u001b[1;32m      8\u001b[0m \u001b[38;5;28;01mfrom\u001b[39;00m \u001b[38;5;21;01mqiskit\u001b[39;00m\u001b[38;5;21;01m.\u001b[39;00m\u001b[38;5;21;01mvisualization\u001b[39;00m \u001b[38;5;28;01mimport\u001b[39;00m plot_bloch_multivector, plot_histogram\n\u001b[1;32m      9\u001b[0m \u001b[38;5;28;01mfrom\u001b[39;00m \u001b[38;5;21;01mqiskit\u001b[39;00m\u001b[38;5;21;01m.\u001b[39;00m\u001b[38;5;21;01mquantum_info\u001b[39;00m \u001b[38;5;28;01mimport\u001b[39;00m Statevector\n",
      "\u001b[0;31mImportError\u001b[0m: cannot import name 'Aer' from 'qiskit' (/Users/isabelleviarouge/miniconda3/envs/qiskit2/lib/python3.12/site-packages/qiskit/__init__.py)"
     ]
    }
   ],
   "source": [
    "import numpy as np\n",
    "from math import pi\n",
    "import matplotlib.pyplot as plt\n",
    "from sklearn import datasets\n",
    "from sklearn.model_selection import train_test_split\n",
    "\n",
    "# from qiskit import QuantumCircuit, Aer, execute, IBMQ\n",
    "from qiskit import QuantumCircuit\n",
    "from qiskit_aer import AerSimulator, QasmSimulator\n",
    "from qiskit.visualization import plot_bloch_multivector, plot_histogram\n",
    "from qiskit.quantum_info import Statevector\n",
    "\n",
    "SEED = 8398"
   ]
  },
  {
   "cell_type": "code",
   "execution_count": null,
   "metadata": {},
   "outputs": [],
   "source": [
    "import sys\n",
    "sys.path.insert(0, '/content/atelier_qml')\n",
    "\n",
    "from utils import *"
   ]
  },
  {
   "cell_type": "markdown",
   "metadata": {},
   "source": [
    "## Le jeu de données Iris"
   ]
  },
  {
   "cell_type": "code",
   "execution_count": null,
   "metadata": {},
   "outputs": [],
   "source": [
    "# Charger le jeu de données Iris\n",
    "# Composé de 150 items, 3 classes, 4 caractéristiques\n",
    "iris = datasets.load_iris()\n",
    "\n",
    "nb_features = 4\n",
    "\n",
    "for i in range(0, len(iris[\"data\"]), 15):\n",
    "    print(f'Vecteur: {iris[\"data\"][i]} -- étiquette: {iris[\"target\"][i]}')"
   ]
  },
  {
   "cell_type": "code",
   "execution_count": null,
   "metadata": {},
   "outputs": [],
   "source": [
    "# Classification binaire, on conserve seulement les classes 0 et 1\n",
    "nb_classes = 2\n",
    "Y = iris.target[:100] \n",
    "\n",
    "# Normalisation\n",
    "X = np.array([x / np.linalg.norm(x) for x in iris.data[:100]]) \n",
    "\n",
    "for i in range(0, len(X), 15):\n",
    "    print(f'Vecteur: {X[i]} -- étiquette: {Y[i]}')\n",
    "print(f'Taille du jeu de données: {len(X)}')"
   ]
  },
  {
   "cell_type": "code",
   "execution_count": null,
   "metadata": {},
   "outputs": [],
   "source": [
    "# Partition de l'ensemble d'entraînement et de test\n",
    "test_ratio = 0.2\n",
    "x_train, x_test, y_train, y_test = train_test_split(X, Y, test_size=test_ratio, random_state=SEED, stratify=Y)\n",
    "print(f\"Taille de l'ensemble d'entraînement: {len(x_train)}\\nTaille de l'ensemble de test: {len(x_test)}\")"
   ]
  },
  {
   "cell_type": "code",
   "execution_count": null,
   "metadata": {},
   "outputs": [],
   "source": [
    "x_train[0]"
   ]
  },
  {
   "cell_type": "markdown",
   "metadata": {},
   "source": [
    "## Accès aux ressource de calcul IBM Quantum"
   ]
  },
  {
   "cell_type": "code",
   "execution_count": null,
   "metadata": {},
   "outputs": [],
   "source": [
    "# IBMQ.load_account()\n",
    "# provider = IBMQ.get_provider(hub='ibm-q', group='open', project='main')\n",
    "# provider.backends()"
   ]
  },
  {
   "cell_type": "code",
   "execution_count": null,
   "metadata": {},
   "outputs": [],
   "source": [
    "simulator = QasmSimulator()"
   ]
  },
  {
   "cell_type": "markdown",
   "metadata": {},
   "source": [
    "## Application de portes quantiques avec Qiskit"
   ]
  },
  {
   "cell_type": "markdown",
   "metadata": {},
   "source": [
    "### Visualisation de l'état d'un qubit avec la sphère de Bloch"
   ]
  },
  {
   "cell_type": "code",
   "execution_count": null,
   "metadata": {},
   "outputs": [],
   "source": [
    "qc = QuantumCircuit(1)\n",
    "qc.draw('mpl')"
   ]
  },
  {
   "cell_type": "code",
   "execution_count": null,
   "metadata": {},
   "outputs": [],
   "source": [
    "def bloch_0():\n",
    "    \"\"\"\n",
    "    Circuit quantique qui prépare l'état |0>\n",
    "    \"\"\"\n",
    "    return qc\n",
    "\n",
    "state = Statevector.from_instruction(bloch_0()) # Retourne le vecteur d'état résultant d'une instruction (circuit)\n",
    "plot_bloch_multivector(state)"
   ]
  },
  {
   "cell_type": "markdown",
   "metadata": {},
   "source": [
    "### Porte $X$"
   ]
  },
  {
   "cell_type": "code",
   "execution_count": null,
   "metadata": {},
   "outputs": [],
   "source": [
    "def bloch_x():\n",
    "    \"\"\"\n",
    "    Circuit quantique qui prépare l'état |1>\n",
    "    \"\"\"\n",
    "    qc = QuantumCircuit(1)\n",
    "    qc.x(0)\n",
    "    return qc\n",
    "\n",
    "bloch_x().draw('mpl')"
   ]
  },
  {
   "cell_type": "code",
   "execution_count": null,
   "metadata": {},
   "outputs": [],
   "source": [
    "state = Statevector.from_instruction(bloch_x())\n",
    "plot_bloch_multivector(state)"
   ]
  },
  {
   "cell_type": "markdown",
   "metadata": {},
   "source": [
    "### Superposition avec la porte $H$"
   ]
  },
  {
   "cell_type": "code",
   "execution_count": null,
   "metadata": {},
   "outputs": [],
   "source": [
    "def bloch_h():\n",
    "    \"\"\"\n",
    "    Circuit quantique qui prépare l'état sqrt(0.5)(|0> + |1>)\n",
    "    \"\"\"\n",
    "    qc = QuantumCircuit(1)\n",
    "    qc.h(0)\n",
    "    return qc\n",
    "\n",
    "bloch_h().draw('mpl')"
   ]
  },
  {
   "cell_type": "code",
   "execution_count": null,
   "metadata": {},
   "outputs": [],
   "source": [
    "state = Statevector.from_instruction(bloch_h())\n",
    "plot_bloch_multivector(state)"
   ]
  },
  {
   "cell_type": "code",
   "execution_count": null,
   "metadata": {},
   "outputs": [],
   "source": [
    "def bloch_xh():\n",
    "    \"\"\"\n",
    "    Circuit quantique qui prépare l'état sqrt(0.5)(|0> - |1>)\n",
    "    \"\"\"\n",
    "    qc = QuantumCircuit(1)\n",
    "    qc.x(0)\n",
    "    qc.h(0)\n",
    "    return qc\n",
    "\n",
    "bloch_xh().draw('mpl')"
   ]
  },
  {
   "cell_type": "code",
   "execution_count": null,
   "metadata": {},
   "outputs": [],
   "source": [
    "state = Statevector.from_instruction(bloch_xh())\n",
    "plot_bloch_multivector(state)"
   ]
  },
  {
   "cell_type": "markdown",
   "metadata": {},
   "source": [
    "### Porte $Z$"
   ]
  },
  {
   "cell_type": "code",
   "execution_count": null,
   "metadata": {},
   "outputs": [],
   "source": [
    "def bloch_hz():\n",
    "    \"\"\"\n",
    "    Circuit quantique qui prépare l'état sqrt(0.5)(|0> - |1>)\n",
    "    \"\"\"\n",
    "    qc = QuantumCircuit(1)\n",
    "    qc.h(0)\n",
    "    qc.z(0)\n",
    "    return qc\n",
    "\n",
    "bloch_hz().draw('mpl')"
   ]
  },
  {
   "cell_type": "code",
   "execution_count": null,
   "metadata": {},
   "outputs": [],
   "source": [
    "state = Statevector.from_instruction(bloch_hz())\n",
    "plot_bloch_multivector(state)"
   ]
  },
  {
   "cell_type": "markdown",
   "metadata": {},
   "source": [
    "### Rotations paramétrées ($RX$, $RY$, $RZ$)"
   ]
  },
  {
   "cell_type": "code",
   "execution_count": null,
   "metadata": {},
   "outputs": [],
   "source": [
    "def bloch_rx(angle):\n",
    "    \"\"\"\n",
    "    Circuit qui applique une rotation autour de l'axe X\n",
    "    \"\"\"\n",
    "    qc = QuantumCircuit(1)\n",
    "    qc.rx(angle, 0) \n",
    "    return qc\n",
    "\n",
    "def bloch_ry(angle):\n",
    "    \"\"\"\n",
    "    Circuit qui applique une rotation autour de l'axe Y\n",
    "    \"\"\"\n",
    "    qc = QuantumCircuit(1)\n",
    "    qc.ry(angle, 0) \n",
    "    return qc\n",
    "\n",
    "def bloch_rz(angle):\n",
    "    \"\"\"\n",
    "    Circuit qui applique une rotation autour de l'axe Z\n",
    "    \"\"\"\n",
    "    qc = QuantumCircuit(1)\n",
    "    qc.rz(angle, 0) \n",
    "    return qc\n",
    "\n",
    "\n",
    "bloch_rx(pi).draw('mpl')"
   ]
  },
  {
   "cell_type": "code",
   "execution_count": null,
   "metadata": {},
   "outputs": [],
   "source": [
    "# Une rotation de PI autour de l'axe X est équivalent à appliquer une porte X:\n",
    "state = Statevector.from_instruction(bloch_rx(pi))\n",
    "plot_bloch_multivector(state)"
   ]
  },
  {
   "cell_type": "code",
   "execution_count": null,
   "metadata": {},
   "outputs": [],
   "source": [
    "# Essayez avec différents angles pour les portes RX, RY et RZ\n",
    "state = Statevector.from_instruction(bloch_ry(pi/5))\n",
    "plot_bloch_multivector(state)"
   ]
  },
  {
   "cell_type": "markdown",
   "metadata": {},
   "source": [
    "### Porte $CX$ à deux qubits: exemple avec l'état GHZ"
   ]
  },
  {
   "cell_type": "code",
   "execution_count": null,
   "metadata": {},
   "outputs": [],
   "source": [
    "qc = QuantumCircuit(3) \n",
    "qc.h(0)\n",
    "qc.cx(0, 1)  # 1er paramètre identifie qubit de contrôle, 2e paramètre identifie qubit cible\n",
    "qc.cx(1, 2)\n",
    "qc.measure_all() \n",
    "qc.draw('mpl')"
   ]
  },
  {
   "cell_type": "markdown",
   "metadata": {},
   "source": [
    "Ce circuit produit l'état $|\\Psi\\rangle$ =  $\\frac{1}{\\sqrt{2}}|000\\rangle + \\frac{1}{\\sqrt{2}}|111\\rangle$.<br>\n",
    "Une fois la mesure effectuée, les qubits seront soit dans l'état $|000\\rangle$, soit dans l'état $|111\\rangle$, avec une probabilité de $\\frac{1}{2}$ pour chaque état."
   ]
  },
  {
   "cell_type": "markdown",
   "metadata": {},
   "source": [
    "## Exécution du circuit sur un simulateur"
   ]
  },
  {
   "cell_type": "code",
   "execution_count": null,
   "metadata": {},
   "outputs": [],
   "source": [
    "#todo: clean up\n",
    "#Q: WHY TWICE THE SAME PROCEDURE???\n",
    "# result = execute(qc, backend=qasm_sim, shots=1, seed=SEED).result()\n",
    "\n",
    "result = simulator.run(qc).result()\n",
    "counts = result.get_counts()\n",
    "print(counts)\n",
    "\n",
    "plot_histogram(counts)"
   ]
  },
  {
   "cell_type": "markdown",
   "metadata": {},
   "source": [
    "Pour accumuler des statistiques sur l'état quantique qu'on mesure, on exécute le même circuit plusieurs fois avec le paramètre *shots*."
   ]
  },
  {
   "cell_type": "code",
   "execution_count": null,
   "metadata": {},
   "outputs": [],
   "source": [
    "result = simulator.run(qc, shots=1024, seed_simulator=SEED).result()\n",
    "counts = result.get_counts()\n",
    "print(counts)\n",
    "\n",
    "plot_histogram(counts)"
   ]
  },
  {
   "cell_type": "markdown",
   "metadata": {},
   "source": [
    "## Exercice 1\n",
    "Créez le circuit quantique ci-dessous et exécutez-le en utilisant le *qasm_simulator*."
   ]
  },
  {
   "cell_type": "markdown",
   "metadata": {},
   "source": [
    "![ex1.png](ex1.png)"
   ]
  },
  {
   "cell_type": "code",
   "execution_count": null,
   "metadata": {},
   "outputs": [],
   "source": [
    "## Votre code ici \n",
    "qc = None\n",
    "\n",
    "###\n",
    "qc.draw('mpl')"
   ]
  },
  {
   "cell_type": "markdown",
   "metadata": {},
   "source": [
    "Utilisez le *qasm_sim* comme ressource de calcul, *1000* shots and n'oubliez pas d'inclure la *SEED*."
   ]
  },
  {
   "cell_type": "code",
   "execution_count": null,
   "metadata": {},
   "outputs": [],
   "source": [
    "## Exécutez le circuit et obtenez l'histogramme des mesures\n",
    "\n",
    "result = None\n",
    "counts = None\n",
    "###\n",
    "print(counts)\n",
    "plot_histogram(counts)"
   ]
  },
  {
   "cell_type": "markdown",
   "metadata": {},
   "source": [
    "**Vous devriez obtenir le résultat suivant: {'010': 32, '011': 472, '100': 30, '101': 466}**"
   ]
  }
 ],
 "metadata": {
  "kernelspec": {
   "display_name": "qiskit2",
   "language": "python",
   "name": "python3"
  },
  "language_info": {
   "codemirror_mode": {
    "name": "ipython",
    "version": 3
   },
   "file_extension": ".py",
   "mimetype": "text/x-python",
   "name": "python",
   "nbconvert_exporter": "python",
   "pygments_lexer": "ipython3",
   "version": "3.12.4"
  },
  "widgets": {
   "application/vnd.jupyter.widget-state+json": {
    "state": {},
    "version_major": 2,
    "version_minor": 0
   }
  }
 },
 "nbformat": 4,
 "nbformat_minor": 4
}
