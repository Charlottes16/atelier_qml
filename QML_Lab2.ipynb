{
 "cells": [
  {
   "cell_type": "code",
   "execution_count": null,
   "metadata": {},
   "outputs": [],
   "source": [
    "!pip install qiskit\n",
    "!pip install qiskit_aer\n",
    "!pip install qiskit_machine_learning\n",
    "!pip install qiskit_algorithms\n",
    "!pip install matplotlib\n",
    "!pip install pylatexenc\n",
    "!pip install scipy\n",
    "!pip install -U scikit-learn\n",
    "\n",
    "!git clone https://github.com/IsaVia777/atelier_qml.git"
   ]
  },
  {
   "cell_type": "markdown",
   "metadata": {},
   "source": [
    "# Lab 2: Encodage de données\n",
    "\n",
    "**Objectifs:**\n",
    "* Projection de données 1D dans un espace des caractéristiques quantiques avec l’encodage par angle\n",
    "* Encodage par angle et par amplitude pour le jeu de données Iris\n",
    "* Encodage de données avec Qiskit\n"
   ]
  },
  {
   "cell_type": "code",
   "execution_count": null,
   "metadata": {},
   "outputs": [],
   "source": [
    "import numpy as np \n",
    "import matplotlib.pyplot as plt\n",
    "import os \n",
    "import sys\n",
    "\n",
    "from qiskit_aer import Aer\n",
    "from qiskit.circuit import Parameter\n",
    "from qiskit.circuit.library import ZFeatureMap, ZZFeatureMap, PauliFeatureMap\n",
    "from qiskit.quantum_info import Statevector\n",
    "from qiskit_machine_learning.circuit.library import RawFeatureVector\n",
    "\n",
    "SEED = 8398"
   ]
  },
  {
   "cell_type": "code",
   "execution_count": null,
   "metadata": {},
   "outputs": [],
   "source": [
    "import sys\n",
    "sys.path.insert(0, '/content/atelier_qml')\n",
    "\n",
    "from utils import *"
   ]
  },
  {
   "cell_type": "code",
   "execution_count": null,
   "metadata": {},
   "outputs": [],
   "source": [
    "# Les simulateurs qui seront utilisés dans ce laboratoire\n",
    "qasm_sim = Aer.get_backend('qasm_simulator')\n",
    "sv_sim = Aer.get_backend('statevector_simulator')"
   ]
  },
  {
   "cell_type": "markdown",
   "metadata": {},
   "source": [
    "### Ensemble de données 1D non linéairement séparable"
   ]
  },
  {
   "cell_type": "code",
   "execution_count": null,
   "metadata": {},
   "outputs": [],
   "source": [
    "x0,x1 = get_non_seperable_data()\n",
    "nb_features = 1"
   ]
  },
  {
   "cell_type": "code",
   "execution_count": null,
   "metadata": {},
   "outputs": [],
   "source": [
    "# Aperçu de l'ensemble de données. Étiquette 0 en bleu, étiquette 1 en rouge\n",
    "plt.yticks([])\n",
    "plt.scatter(x0, [0]*len(x0), color='blue')\n",
    "plt.scatter(x1, [0]*len(x1), color='red')"
   ]
  },
  {
   "cell_type": "markdown",
   "metadata": {},
   "source": [
    "On ne peut pas séparer la classe *bleu* de la classe *rouge* en traçant une droite.<br>\n",
    "On dit que les données ne sont pas *linéairement séparables*.<br>\n",
    "L'encodage des données dans un espace des caractéristiques quantiques va nous permettre de rendre les données séparables!"
   ]
  },
  {
   "cell_type": "markdown",
   "metadata": {
    "tags": []
   },
   "source": [
    "## Encodage des données\n",
    "\n",
    "On encode les données dans un état quantique à l'aide d'une **projection dans l'espace des caractéristiques quantiques** $\\phi(\\mathbf{x})$.<br>\n",
    "\n",
    "### Encodage par angle\n",
    "On doit définir un circuit quantique paramétré. Ces paramètres seront utilisés pour charger les données.\n"
   ]
  },
  {
   "cell_type": "code",
   "execution_count": null,
   "metadata": {},
   "outputs": [],
   "source": [
    "# Créer une liste de paramètres.\n",
    "# Puisque les données sont 1D, on n'a besoin que d'un seul paramètre\n",
    "x_params = [Parameter(f'x{str(i)}') for i in range(nb_features)]\n",
    "\n",
    "# Instancier le circuit quantique\n",
    "qc = QuantumCircuit(nb_features)\n",
    "\n",
    "for i in range(nb_features):\n",
    "    # Encodage à l'aide d'une rotation RX\n",
    "    qc.rx(x_params[i], i)\n",
    "\n",
    "qc.draw('mpl')"
   ]
  },
  {
   "cell_type": "code",
   "execution_count": null,
   "metadata": {},
   "outputs": [],
   "source": [
    "# Obtenir le vecteur d'état correspondant à chacun des points de notre ensemble de données\n",
    "statevectors0 = get_statevector(qc, x0, x_params, sv_sim)\n",
    "statevectors1 = get_statevector(qc, x1, x_params, sv_sim)\n",
    "\n",
    "# Visualisation de l'ensemble de données sur la sphère de Bloch\n",
    "plot_bloch_visualization([statevectors0, statevectors1], ['b', 'r'])"
   ]
  },
  {
   "cell_type": "markdown",
   "metadata": {},
   "source": [
    "### Encodage par angle de l'ensemble de données Iris"
   ]
  },
  {
   "cell_type": "code",
   "execution_count": null,
   "metadata": {},
   "outputs": [],
   "source": [
    "x_train,y_train,x_test,y_test = get_iris(SEED)\n",
    "nb_features = 4\n",
    "x_train[0]"
   ]
  },
  {
   "cell_type": "markdown",
   "metadata": {},
   "source": [
    "On définit une fonction qui prend en paramètre un circuit quantique et un vecteur de caractéristiques ou de paramètres et qui procède à l'**encodage par angle** du vecteur."
   ]
  },
  {
   "cell_type": "code",
   "execution_count": null,
   "metadata": {},
   "outputs": [],
   "source": [
    "def angle_embedding(qc, feature_vec):  \n",
    "    \n",
    "    \"\"\"\n",
    "    Encodage par angle avec des portes RX.\n",
    "\n",
    "    :param qc: Le circuit quantique.\n",
    "    :param feature_vec: Le vecteur de paramètres utilisés pour charger les données.\n",
    "                        Le nombre de qubit dans le circuit devrait être égal \n",
    "                        aux nombres de caractéristiques dans le vecteur de données\n",
    "    :return: Le circuit quantique auquel on a ajouté une couche d'encodage par angle. \n",
    "    \"\"\"\n",
    "    if qc.num_qubits != len(feature_vec):\n",
    "        raise ValueError('Le nombre de caractéristiques doit être égal au nombre de quibits.')\n",
    "\n",
    "    for i in range(qc.num_qubits):\n",
    "        qc.rx(feature_vec[i], i)\n",
    "\n",
    "    return qc"
   ]
  },
  {
   "cell_type": "markdown",
   "metadata": {},
   "source": [
    "Visualisation du circuit permettant l'encodage d'une donnée par angle"
   ]
  },
  {
   "cell_type": "code",
   "execution_count": null,
   "metadata": {},
   "outputs": [],
   "source": [
    "print(\"Premier élément de l'ensemble d'entraînement:\", x_train[0])\n",
    "\n",
    "nb_qubits = nb_features\n",
    "qc = QuantumCircuit(nb_qubits)\n",
    "qc = angle_embedding(qc, x_train[0])\n",
    "\n",
    "qc.draw(\"mpl\")"
   ]
  },
  {
   "cell_type": "markdown",
   "metadata": {},
   "source": [
    "### Encodage par amplitude\n",
    "\n",
    "Encodage d'un vecteur hypothétique: \n",
    "\n",
    "($\\frac{1}{\\sqrt{2}}$, 0, 0, $\\frac{1}{\\sqrt{2}}$)"
   ]
  },
  {
   "cell_type": "code",
   "execution_count": null,
   "metadata": {},
   "outputs": [],
   "source": [
    "qc = QuantumCircuit(2)\n",
    "qc.h(0)\n",
    "qc.cx(0,1)\n",
    "qc.draw('mpl')"
   ]
  },
  {
   "cell_type": "markdown",
   "metadata": {},
   "source": [
    "Dans ce cas-ci, c'est simple, le vecteur d'état correspondant est celui d'une paire de Bell!<br>\n",
    "De façon générale, trouver le circuit quantique permettant d'encoder une donnée par amplitude n'est pas trivial.<br>\n",
    "Heureusement, Qiskit offre la classe __[RawFeatureVector](https://qiskit.org/documentation/machine-learning/stubs/qiskit_machine_learning.circuit.library.RawFeatureVector.html)__ qui permet d'effectuer l'encodage par amplitude."
   ]
  },
  {
   "cell_type": "code",
   "execution_count": null,
   "metadata": {},
   "outputs": [],
   "source": [
    "qc = RawFeatureVector(nb_features) \n",
    "qc.draw('mpl')"
   ]
  },
  {
   "cell_type": "code",
   "execution_count": null,
   "metadata": {},
   "outputs": [],
   "source": [
    "qc = qc.assign_parameters(x_train[0])\n",
    "print(x_train[0])\n",
    "qc.decompose().decompose().decompose().decompose().decompose().decompose().draw('mpl')"
   ]
  },
  {
   "cell_type": "code",
   "execution_count": null,
   "metadata": {},
   "outputs": [],
   "source": [
    "# Ce circuit quantique donne bel et bien le bon état!\n",
    "Statevector.from_instruction(qc)"
   ]
  },
  {
   "cell_type": "markdown",
   "metadata": {},
   "source": [
    "### Encodage à l'aide de Qiskit\n",
    "\n"
   ]
  },
  {
   "cell_type": "markdown",
   "metadata": {},
   "source": [
    "\n",
    "Qiskit offre différentes classes qui implémentent des projections dans l'espace des caractéristiques quantiques, notamment `ZFeatureMap`, `ZZFeatureMap` et `PauliFeatureMap`.<br>\n",
    "On peut visualiser les circuits correspondants."
   ]
  },
  {
   "cell_type": "code",
   "execution_count": null,
   "metadata": {},
   "outputs": [],
   "source": [
    "map_z = ZFeatureMap(feature_dimension=nb_features, reps = 2)\n",
    "map_z.decompose().draw('mpl')"
   ]
  },
  {
   "cell_type": "markdown",
   "metadata": {},
   "source": [
    "Ici la [porte P](https://qiskit.org/documentation/stubs/qiskit.circuit.library.PhaseGate.html) est la porte de phase, une rotation autour de l'axe $Z$. "
   ]
  },
  {
   "cell_type": "code",
   "execution_count": null,
   "metadata": {},
   "outputs": [],
   "source": [
    "map_pauli = PauliFeatureMap(feature_dimension=4, reps=1, entanglement = 'linear')\n",
    "map_pauli.decompose().draw('mpl')"
   ]
  },
  {
   "cell_type": "code",
   "execution_count": null,
   "metadata": {},
   "outputs": [],
   "source": [
    "encode_circuit = map_pauli.assign_parameters(x_train[0])\n",
    "encode_circuit.decompose().draw('mpl')"
   ]
  },
  {
   "cell_type": "markdown",
   "metadata": {},
   "source": [
    "## Exercise 2\n",
    "Encodez le vecteur $x = (-5, 4.5, 0.2, 1)$ en utilisant l'encodage `ZZFeatureMap`."
   ]
  },
  {
   "cell_type": "code",
   "execution_count": null,
   "metadata": {},
   "outputs": [],
   "source": [
    "## Votre code ici\n",
    "\n",
    "x = None\n",
    "\n",
    "zz_circuit = ZZFeatureMap()\n",
    "\n",
    "zz_circuit.decompose().draw('mpl')"
   ]
  }
 ],
 "metadata": {
  "kernelspec": {
   "display_name": "Python 3.9.13 ('qiskit')",
   "language": "python",
   "name": "python3"
  },
  "language_info": {
   "codemirror_mode": {
    "name": "ipython",
    "version": 3
   },
   "file_extension": ".py",
   "mimetype": "text/x-python",
   "name": "python",
   "nbconvert_exporter": "python",
   "pygments_lexer": "ipython3",
   "version": "3.9.13"
  },
  "vscode": {
   "interpreter": {
    "hash": "81cfc0e50c93f82568610dccb22eae6eb90d80f5b8c4769a839926e4ff39b503"
   }
  },
  "widgets": {
   "application/vnd.jupyter.widget-state+json": {
    "state": {},
    "version_major": 2,
    "version_minor": 0
   }
  }
 },
 "nbformat": 4,
 "nbformat_minor": 4
}
